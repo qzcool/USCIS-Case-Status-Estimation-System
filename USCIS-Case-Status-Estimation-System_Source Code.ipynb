{
 "cells": [
  {
   "cell_type": "markdown",
   "metadata": {},
   "source": [
    "1. User Interface on Django, \"Please enter your receipt number:\"\n",
    "2. Basic Query\n",
    "3. Move backward one by one\n",
    "4. Calculate the expectation of processing cases per week: move backward "
   ]
  },
  {
   "cell_type": "code",
   "execution_count": 73,
   "metadata": {},
   "outputs": [
    {
     "name": "stdout",
     "output_type": "stream",
     "text": [
      "<div class=\"rows text-center\">\n",
      "<h1>Card Was Mailed To Me</h1>\n",
      "<p>On July 6, 2017, we mailed your new card for Receipt Number YSC1790192165, to the address you gave us. If you do not receive your card by August 5, 2017, please go to <a href=\"https://egov.uscis.gov/e-Request/Intro.do\" target=\"_blank\">www.uscis.gov/e-request</a> to request that we send your new card to you. If you move, go to <a href=\"https://egov.uscis.gov/coa/displayCOAForm.do\" target=\"_blank\">www.uscis.gov/addresschange</a> to give us your new mailing address.</p>\n",
      "</div>\n"
     ]
    }
   ],
   "source": [
    "#import time\n",
    "#time.sleep(1)\n",
    "\n",
    "import requests\n",
    "from bs4 import BeautifulSoup\n",
    "\n",
    "r = requests.post(\"https://egov.uscis.gov/casestatus/mycasestatus.do\",\n",
    "            data = (\n",
    "                    ('changeLocale',\"\"),\n",
    "                    ('appReceiptNum',\"YSC1790192165\"),\n",
    "                    ('initCaseSearch',\"CHECK STATUS\")\n",
    "                   )\n",
    "          )\n",
    "\n",
    "soup = BeautifulSoup(r.text,\"lxml\")\n",
    "casestatus = soup.find(\"div\", class_=\"rows text-center\")\n",
    "print (casestatus)"
   ]
  },
  {
   "cell_type": "code",
   "execution_count": null,
   "metadata": {
    "collapsed": true
   },
   "outputs": [],
   "source": [
    "import pandas as pd\n"
   ]
  }
 ],
 "metadata": {
  "kernelspec": {
   "display_name": "Python 3",
   "language": "python",
   "name": "python3"
  },
  "language_info": {
   "codemirror_mode": {
    "name": "ipython",
    "version": 3
   },
   "file_extension": ".py",
   "mimetype": "text/x-python",
   "name": "python",
   "nbconvert_exporter": "python",
   "pygments_lexer": "ipython3",
   "version": "3.6.1"
  }
 },
 "nbformat": 4,
 "nbformat_minor": 2
}
