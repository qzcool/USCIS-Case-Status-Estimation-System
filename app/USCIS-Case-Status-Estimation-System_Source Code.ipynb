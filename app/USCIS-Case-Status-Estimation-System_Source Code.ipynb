{
 "cells": [
  {
   "cell_type": "markdown",
   "metadata": {},
   "source": [
    "# Agile\n",
    "1. User Interface on Django or React, \"Please enter your receipt number:\"\n",
    "2. Basic Query\n",
    "3. Move backward one by one\n",
    "4. Calculate the expectation of processing cases per week: move backward\n",
    "5. Data visualization using D3.js or Bokeh\n",
    "6. Detail Solutions Step By Step\n",
    "\n",
    "7. We dont have to worry about users have already finished the process reducing the time it takes to scrape the data for the current year.\n",
    "8. USPS API\n",
    "\n",
    "9. All status:(1)Application for Employment Authorization (2) Assylem\n"
   ]
  },
  {
   "cell_type": "code",
   "execution_count": 52,
   "metadata": {
    "scrolled": false
   },
   "outputs": [
    {
     "ename": "AttributeError",
     "evalue": "'NoneType' object has no attribute 'find'",
     "output_type": "error",
     "traceback": [
      "\u001b[0;31m---------------------------------------------------------------------------\u001b[0m",
      "\u001b[0;31mAttributeError\u001b[0m                            Traceback (most recent call last)",
      "\u001b[0;32m<ipython-input-52-a77babaeced8>\u001b[0m in \u001b[0;36m<module>\u001b[0;34m()\u001b[0m\n\u001b[1;32m     18\u001b[0m                     )\n\u001b[1;32m     19\u001b[0m     \u001b[0msoup\u001b[0m \u001b[0;34m=\u001b[0m \u001b[0mBeautifulSoup\u001b[0m\u001b[0;34m(\u001b[0m\u001b[0mr\u001b[0m\u001b[0;34m.\u001b[0m\u001b[0mtext\u001b[0m\u001b[0;34m,\u001b[0m\u001b[0;34m\"lxml\"\u001b[0m\u001b[0;34m)\u001b[0m\u001b[0;34m\u001b[0m\u001b[0m\n\u001b[0;32m---> 20\u001b[0;31m     \u001b[0mcaseshortstatus\u001b[0m \u001b[0;34m=\u001b[0m \u001b[0msoup\u001b[0m\u001b[0;34m.\u001b[0m\u001b[0mfind\u001b[0m\u001b[0;34m(\u001b[0m\u001b[0;34m\"div\"\u001b[0m\u001b[0;34m,\u001b[0m\u001b[0mclass_\u001b[0m\u001b[0;34m=\u001b[0m\u001b[0;34m\"rows text-center\"\u001b[0m\u001b[0;34m)\u001b[0m\u001b[0;34m.\u001b[0m\u001b[0mfind\u001b[0m\u001b[0;34m(\u001b[0m\u001b[0;34m\"h1\"\u001b[0m\u001b[0;34m)\u001b[0m\u001b[0;34m\u001b[0m\u001b[0m\n\u001b[0m\u001b[1;32m     21\u001b[0m     \u001b[0mcasefullstatus\u001b[0m \u001b[0;34m=\u001b[0m \u001b[0msoup\u001b[0m\u001b[0;34m.\u001b[0m\u001b[0mfind\u001b[0m\u001b[0;34m(\u001b[0m\u001b[0;34m\"div\"\u001b[0m\u001b[0;34m,\u001b[0m\u001b[0mclass_\u001b[0m\u001b[0;34m=\u001b[0m\u001b[0;34m\"rows text-center\"\u001b[0m\u001b[0;34m)\u001b[0m\u001b[0;34m.\u001b[0m\u001b[0mfind\u001b[0m\u001b[0;34m(\u001b[0m\u001b[0;34m\"p\"\u001b[0m\u001b[0;34m)\u001b[0m\u001b[0;34m\u001b[0m\u001b[0m\n\u001b[1;32m     22\u001b[0m     \u001b[0mreceiptnumber\u001b[0m \u001b[0;34m+=\u001b[0m \u001b[0;36m1\u001b[0m\u001b[0;34m\u001b[0m\u001b[0m\n",
      "\u001b[0;31mAttributeError\u001b[0m: 'NoneType' object has no attribute 'find'"
     ]
    }
   ],
   "source": [
    "import requests\n",
    "from bs4 import BeautifulSoup\n",
    "import numpy as np\n",
    "import pandas as pd\n",
    "\n",
    "receiptnumber = 1790268500\n",
    "case = pd.DataFrame([])\n",
    "\n",
    "#while True: Improve it later on.\n",
    "while receiptnumber < 1790268510:\n",
    "    r = requests.post(\"https://egov.uscis.gov/casestatus/mycasestatus.do\",\n",
    "            data = (\n",
    "                    ('changeLocale',\"\"),\n",
    "                    ('appReceiptNum',\"YSC\" + str(receiptnumber)), \n",
    "                    # Add other locations later, not only \"YSC\"\n",
    "                    ('initCaseSearch',\"CHECK STATUS\")\n",
    "                   )\n",
    "                    )\n",
    "    soup = BeautifulSoup(r.text,\"lxml\")\n",
    "    caseshortstatus = soup.find(\"div\",class_=\"rows text-center\").find(\"h1\")\n",
    "    casefullstatus = soup.find(\"div\",class_=\"rows text-center\").find(\"p\")\n",
    "    receiptnumber += 1\n",
    "    \n",
    "    case = case.append(pd.DataFrame([\"YSC\" + str(receiptnumber), caseshortstatus, casefullstatus]))\n",
    "    #if soup.find(\"div\", class_=\"ui-dialog ui-widget ui-widget-content ui-corner-all ui-front no-close ui-dialog-buttons ui-resizable\") != None:\n",
    "        #break\n",
    "\n",
    "case.to_csv('allcases2017.csv')\n",
    "\n",
    "# Convert from csv to json\n",
    "#import csv\n",
    "#import json\n",
    "\n",
    "#with open('allcases2017.csv') as f:\n",
    "   # reader = csv.DictReader(f)\n",
    "   # rows = list(reader)\n",
    "\n",
    "#with open('allcases2017.json', 'w') as f:\n",
    "   # json.dump(rows, f)"
   ]
  },
  {
   "cell_type": "code",
   "execution_count": 18,
   "metadata": {
    "collapsed": true
   },
   "outputs": [],
   "source": []
  },
  {
   "cell_type": "markdown",
   "metadata": {},
   "source": [
    "var URL = 'https://egov.uscis.gov/casestatus/mycasestatus.do?appReceiptNum=RECEIPT_NUM';\n",
    "var PREFIX = 'EAC';\n",
    "var START_NUMBER = 1690149000;\n",
    "var END_NUMBER = 1690180000;\n",
    "\n",
    "var receiptNumbers = [];\n",
    "for (var i = START_NUMBER; i < END_NUMBER; i++):\n",
    "  receiptNumbers.push(PREFIX + i);\n",
    "\n",
    "fs.writeFileSync('raw_data.csv', 'receipt,title,text\\n');\n",
    "\n",
    "\n",
    "# Judging Criteria: \"I am an immigrant\" Hackathone\n",
    "Impact, Design, Customer Accepting, Creativity, Scalability (Bussiness Model during the presentation)\n",
    "No more than 8 people, diversified background, "
   ]
  }
 ],
 "metadata": {
  "kernelspec": {
   "display_name": "Python 3",
   "language": "python",
   "name": "python3"
  },
  "language_info": {
   "codemirror_mode": {
    "name": "ipython",
    "version": 3
   },
   "file_extension": ".py",
   "mimetype": "text/x-python",
   "name": "python",
   "nbconvert_exporter": "python",
   "pygments_lexer": "ipython3",
   "version": "3.6.1"
  }
 },
 "nbformat": 4,
 "nbformat_minor": 2
}
